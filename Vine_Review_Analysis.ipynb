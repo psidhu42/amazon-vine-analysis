{
  "nbformat": 4,
  "nbformat_minor": 0,
  "metadata": {
    "colab": {
      "name": "Vine_Review_Analysis.ipynb",
      "provenance": [],
      "collapsed_sections": []
    },
    "kernelspec": {
      "name": "python3",
      "display_name": "Python 3"
    },
    "language_info": {
      "name": "python"
    }
  },
  "cells": [
    {
      "cell_type": "code",
      "execution_count": 1,
      "metadata": {
        "colab": {
          "base_uri": "https://localhost:8080/"
        },
        "id": "mnLUFjGdEuoR",
        "outputId": "c47f49e8-5482-4502-a80f-72d513bb0e88"
      },
      "outputs": [
        {
          "output_type": "stream",
          "name": "stdout",
          "text": [
            "\r0% [Working]\r            \rGet:1 http://security.ubuntu.com/ubuntu bionic-security InRelease [88.7 kB]\n",
            "\r0% [Waiting for headers] [1 InRelease 0 B/88.7 kB 0%] [Connected to cloud.r-pro\r                                                                               \rHit:2 http://ppa.launchpad.net/c2d4u.team/c2d4u4.0+/ubuntu bionic InRelease\n",
            "\r0% [Waiting for headers] [1 InRelease 79.3 kB/88.7 kB 89%] [Connected to cloud.\r                                                                               \rHit:3 http://archive.ubuntu.com/ubuntu bionic InRelease\n",
            "\r                                                                               \rGet:4 http://archive.ubuntu.com/ubuntu bionic-updates InRelease [88.7 kB]\n",
            "\r                                                                               \rHit:5 http://ppa.launchpad.net/cran/libgit2/ubuntu bionic InRelease\n",
            "\r                                                                               \rHit:6 https://developer.download.nvidia.com/compute/cuda/repos/ubuntu1804/x86_64  InRelease\n",
            "\r0% [4 InRelease 15.6 kB/88.7 kB 18%] [1 InRelease 79.3 kB/88.7 kB 89%] [Connect\r0% [2 InRelease gpgv 15.9 kB] [4 InRelease 15.6 kB/88.7 kB 18%] [1 InRelease 83\r0% [2 InRelease gpgv 15.9 kB] [4 InRelease 18.5 kB/88.7 kB 21%] [Waiting for he\r                                                                               \rGet:7 https://cloud.r-project.org/bin/linux/ubuntu bionic-cran40/ InRelease [3,626 B]\n",
            "\r0% [2 InRelease gpgv 15.9 kB] [4 InRelease 21.4 kB/88.7 kB 24%] [7 InRelease 3,\r0% [2 InRelease gpgv 15.9 kB] [4 InRelease 21.4 kB/88.7 kB 24%] [Connecting to \r                                                                               \rHit:8 http://ppa.launchpad.net/deadsnakes/ppa/ubuntu bionic InRelease\n",
            "Get:9 http://archive.ubuntu.com/ubuntu bionic-backports InRelease [74.6 kB]\n",
            "Hit:10 http://ppa.launchpad.net/graphics-drivers/ppa/ubuntu bionic InRelease\n",
            "Ign:11 https://developer.download.nvidia.com/compute/machine-learning/repos/ubuntu1804/x86_64  InRelease\n",
            "Hit:12 https://developer.download.nvidia.com/compute/machine-learning/repos/ubuntu1804/x86_64  Release\n",
            "Get:13 http://security.ubuntu.com/ubuntu bionic-security/main amd64 Packages [2,871 kB]\n",
            "Get:14 http://security.ubuntu.com/ubuntu bionic-security/universe amd64 Packages [1,521 kB]\n",
            "Get:15 http://archive.ubuntu.com/ubuntu bionic-updates/main amd64 Packages [3,302 kB]\n",
            "Get:16 http://archive.ubuntu.com/ubuntu bionic-updates/universe amd64 Packages [2,298 kB]\n",
            "Fetched 10.2 MB in 3s (3,629 kB/s)\n",
            "Reading package lists... Done\n"
          ]
        }
      ],
      "source": [
        "import os\n",
        "# Find the latest version of spark 3.0 from http://www.apache.org/dist/spark/ and enter as the spark version\n",
        "# For example:\n",
        "# spark_version = 'spark-3.0.3'\n",
        "spark_version = 'spark-3.0.3'\n",
        "os.environ['SPARK_VERSION']=spark_version\n",
        "\n",
        "# Install Spark and Java\n",
        "!apt-get update\n",
        "!apt-get install openjdk-11-jdk-headless -qq > /dev/null\n",
        "!wget -q http://www.apache.org/dist/spark/$SPARK_VERSION/$SPARK_VERSION-bin-hadoop2.7.tgz\n",
        "!tar xf $SPARK_VERSION-bin-hadoop2.7.tgz\n",
        "!pip install -q findspark\n",
        "\n",
        "# Set Environment Variables\n",
        "import os\n",
        "os.environ[\"JAVA_HOME\"] = \"/usr/lib/jvm/java-11-openjdk-amd64\"\n",
        "os.environ[\"SPARK_HOME\"] = f\"/content/{spark_version}-bin-hadoop2.7\"\n",
        "\n",
        "# Start a SparkSession\n",
        "import findspark\n",
        "findspark.init()"
      ]
    },
    {
      "cell_type": "code",
      "source": [
        "# Download the Postgres driver that will allow Spark to interact with Postgres.\n",
        "!wget https://jdbc.postgresql.org/download/postgresql-42.2.16.jar"
      ],
      "metadata": {
        "colab": {
          "base_uri": "https://localhost:8080/"
        },
        "id": "QUkqQpFDE5bN",
        "outputId": "38870311-3dfc-4c1b-9ffc-245bcb9e0128"
      },
      "execution_count": 2,
      "outputs": [
        {
          "output_type": "stream",
          "name": "stdout",
          "text": [
            "--2022-07-09 19:01:51--  https://jdbc.postgresql.org/download/postgresql-42.2.16.jar\n",
            "Resolving jdbc.postgresql.org (jdbc.postgresql.org)... 72.32.157.228, 2001:4800:3e1:1::228\n",
            "Connecting to jdbc.postgresql.org (jdbc.postgresql.org)|72.32.157.228|:443... connected.\n",
            "HTTP request sent, awaiting response... 200 OK\n",
            "Length: 1002883 (979K) [application/java-archive]\n",
            "Saving to: ‘postgresql-42.2.16.jar’\n",
            "\n",
            "postgresql-42.2.16. 100%[===================>] 979.38K  1.69MB/s    in 0.6s    \n",
            "\n",
            "2022-07-09 19:01:52 (1.69 MB/s) - ‘postgresql-42.2.16.jar’ saved [1002883/1002883]\n",
            "\n"
          ]
        }
      ]
    },
    {
      "cell_type": "code",
      "source": [
        "from pyspark.sql import SparkSession\n",
        "spark = SparkSession.builder.appName(\"Vine_Review\").config(\"spark.driver.extraClassPath\",\"/content/postgresql-42.2.16.jar\").getOrCreate()"
      ],
      "metadata": {
        "id": "iU-09BM1E8b6"
      },
      "execution_count": 3,
      "outputs": []
    },
    {
      "cell_type": "code",
      "source": [
        "from pyspark import SparkFiles\n",
        "url = \"https://s3.amazonaws.com/amazon-reviews-pds/tsv/amazon_reviews_us_Gift_Card_v1_00.tsv.gz\"\n",
        "spark.sparkContext.addFile(url)\n",
        "df = spark.read.option(\"encoding\", \"UTF-8\").csv(SparkFiles.get(\"amazon_reviews_us_Gift_Card_v1_00.tsv.gz\"), sep=\"\\t\", header=True, inferSchema=True)\n",
        "df.show()"
      ],
      "metadata": {
        "colab": {
          "base_uri": "https://localhost:8080/"
        },
        "id": "kczoxpbfFGua",
        "outputId": "9ceb1c54-0a1a-4047-8f10-8979832212f8"
      },
      "execution_count": 4,
      "outputs": [
        {
          "output_type": "stream",
          "name": "stdout",
          "text": [
            "+-----------+-----------+--------------+----------+--------------+--------------------+----------------+-----------+-------------+-----------+----+-----------------+--------------------+--------------------+-----------+\n",
            "|marketplace|customer_id|     review_id|product_id|product_parent|       product_title|product_category|star_rating|helpful_votes|total_votes|vine|verified_purchase|     review_headline|         review_body|review_date|\n",
            "+-----------+-----------+--------------+----------+--------------+--------------------+----------------+-----------+-------------+-----------+----+-----------------+--------------------+--------------------+-----------+\n",
            "|         US|   24371595|R27ZP1F1CD0C3Y|B004LLIL5A|     346014806|Amazon eGift Card...|       Gift Card|          5|            0|          0|   N|                Y|          Five Stars|Great birthday gi...| 2015-08-31|\n",
            "|         US|   42489718| RJ7RSBCHUDNNE|B004LLIKVU|     473048287|Amazon.com eGift ...|       Gift Card|          5|            0|          0|   N|                Y|Gift card for the...|It's an Amazon gi...| 2015-08-31|\n",
            "|         US|     861463|R1HVYBSKLQJI5S|B00IX1I3G6|     926539283|Amazon.com Gift C...|       Gift Card|          5|            0|          0|   N|                Y|          Five Stars|                Good| 2015-08-31|\n",
            "|         US|   25283295|R2HAXF0IIYQBIR|B00IX1I3G6|     926539283|Amazon.com Gift C...|       Gift Card|          1|            0|          0|   N|                Y|            One Star|                Fair| 2015-08-31|\n",
            "|         US|     397970| RNYLPX611NB7Q|B005ESMGV4|     379368939|Amazon.com Gift C...|       Gift Card|          5|            0|          0|   N|                Y|          Five Stars|I can't believe h...| 2015-08-31|\n",
            "|         US|   18513645|R3ALA9XXMBEDZR|B004KNWWU4|     326384774|Amazon Gift Card ...|       Gift Card|          5|            0|          0|   N|                Y|Perfect for most ...|Perfect!  Nice & ...| 2015-08-31|\n",
            "|         US|   22484620|R3R8PHAVJFTPDF|B004LLIKVU|     473048287|Amazon.com eGift ...|       Gift Card|          5|            0|          0|   N|                Y|          Five Stars|            excelent| 2015-08-31|\n",
            "|         US|   14765851|R18WWEK8OIXE30|BT00CTP2EE|     775486538|Amazon.com Gift C...|       Gift Card|          5|            0|          0|   N|                Y|          Five Stars|Great and Safe Gi...| 2015-08-31|\n",
            "|         US|   18751931|R1EGUNQON2J277|B004LLIKVU|     473048287|Amazon.com eGift ...|       Gift Card|          1|            0|          0|   N|                Y|            One Star|       What?????????| 2015-08-31|\n",
            "|         US|   15100528|R21Z4M4L98CPU2|B004W8D102|     595099956|Amazon Gift Card ...|       Gift Card|          5|            0|          0|   N|                Y|          Five Stars|This was just too...| 2015-08-31|\n",
            "|         US|    3559726| R6JH7A117FHFA|B004LLIKVU|     473048287|Amazon.com eGift ...|       Gift Card|          5|            0|          0|   N|                Y|          Five Stars|                Bien| 2015-08-31|\n",
            "|         US|   23413911|R1XZHS8M1GCGI7|B004KNWWU4|     326384774|Amazon Gift Card ...|       Gift Card|          5|            1|          1|   N|                Y|         Always good|Easy to print fro...| 2015-08-31|\n",
            "|         US|    2026222|R1DAI0N03SKRJN|B004LLIKVU|     473048287|Amazon.com eGift ...|       Gift Card|          5|            1|          1|   N|                Y|          Five Stars|Amazing with 10 d...| 2015-08-31|\n",
            "|         US|   32956435|R2F6SKZOEYQRU3|B004LLIKVU|     473048287|Amazon.com eGift ...|       Gift Card|          5|            0|          0|   N|                N|          Five Stars|Remember Matthew ...| 2015-08-31|\n",
            "|         US|   20241560| RIBOP6OEAZA47|B00H5BNLUS|     637715957|Amazon eGift Card...|       Gift Card|          5|            1|          1|   N|                Y|          Five Stars|                good| 2015-08-31|\n",
            "|         US|   10670435|R15H8E7WD6XD29|B004KNWX6C|     763371347|Amazon Gift Card ...|       Gift Card|          5|            0|          0|   N|                Y|          Five Stars|Awesome way to se...| 2015-08-31|\n",
            "|         US|   48872127| RVN4P3RU4F8IE|BT00CTOYC0|     506740729|Amazon.com $15 Gi...|       Gift Card|          5|            0|          0|   N|                Y|Quick Solution fo...|I love that I hav...| 2015-08-31|\n",
            "|         US|     460630| RCS8F9JCAAXC7|B004LLIKVU|     473048287|Amazon.com eGift ...|       Gift Card|          4|            0|          0|   N|                Y|          Four Stars|Good gift. Easy t...| 2015-08-31|\n",
            "|         US|   41238378| R6811C4E7UYL2|B00H5BMH44|      81025991|Amazon eGift Card...|       Gift Card|          5|            0|          0|   N|                Y|  Satisfied customer|Satisfied as usua...| 2015-08-31|\n",
            "|         US|   14222739|R196T0NZ73TYIM|B005ESMMKE|     459536087|Amazon.com Gift C...|       Gift Card|          5|            1|          1|   N|                Y|          Five Stars|                nice| 2015-08-31|\n",
            "+-----------+-----------+--------------+----------+--------------+--------------------+----------------+-----------+-------------+-----------+----+-----------------+--------------------+--------------------+-----------+\n",
            "only showing top 20 rows\n",
            "\n"
          ]
        }
      ]
    },
    {
      "cell_type": "code",
      "source": [
        "# Create the vine_table. DataFrame\n",
        "# vine_df = df.select([])\n",
        "\n",
        "vine_df = df.select([\"review_id\", \"star_rating\", \"helpful_votes\", \"total_votes\", \"vine\", \"verified_purchase\"])\n",
        "vine_df.show()"
      ],
      "metadata": {
        "colab": {
          "base_uri": "https://localhost:8080/"
        },
        "id": "YSRKBpdnFLyZ",
        "outputId": "9decbd5f-9c1e-42e0-ef15-f9390e94e5e8"
      },
      "execution_count": 5,
      "outputs": [
        {
          "output_type": "stream",
          "name": "stdout",
          "text": [
            "+--------------+-----------+-------------+-----------+----+-----------------+\n",
            "|     review_id|star_rating|helpful_votes|total_votes|vine|verified_purchase|\n",
            "+--------------+-----------+-------------+-----------+----+-----------------+\n",
            "|R27ZP1F1CD0C3Y|          5|            0|          0|   N|                Y|\n",
            "| RJ7RSBCHUDNNE|          5|            0|          0|   N|                Y|\n",
            "|R1HVYBSKLQJI5S|          5|            0|          0|   N|                Y|\n",
            "|R2HAXF0IIYQBIR|          1|            0|          0|   N|                Y|\n",
            "| RNYLPX611NB7Q|          5|            0|          0|   N|                Y|\n",
            "|R3ALA9XXMBEDZR|          5|            0|          0|   N|                Y|\n",
            "|R3R8PHAVJFTPDF|          5|            0|          0|   N|                Y|\n",
            "|R18WWEK8OIXE30|          5|            0|          0|   N|                Y|\n",
            "|R1EGUNQON2J277|          1|            0|          0|   N|                Y|\n",
            "|R21Z4M4L98CPU2|          5|            0|          0|   N|                Y|\n",
            "| R6JH7A117FHFA|          5|            0|          0|   N|                Y|\n",
            "|R1XZHS8M1GCGI7|          5|            1|          1|   N|                Y|\n",
            "|R1DAI0N03SKRJN|          5|            1|          1|   N|                Y|\n",
            "|R2F6SKZOEYQRU3|          5|            0|          0|   N|                N|\n",
            "| RIBOP6OEAZA47|          5|            1|          1|   N|                Y|\n",
            "|R15H8E7WD6XD29|          5|            0|          0|   N|                Y|\n",
            "| RVN4P3RU4F8IE|          5|            0|          0|   N|                Y|\n",
            "| RCS8F9JCAAXC7|          4|            0|          0|   N|                Y|\n",
            "| R6811C4E7UYL2|          5|            0|          0|   N|                Y|\n",
            "|R196T0NZ73TYIM|          5|            1|          1|   N|                Y|\n",
            "+--------------+-----------+-------------+-----------+----+-----------------+\n",
            "only showing top 20 rows\n",
            "\n"
          ]
        }
      ]
    },
    {
      "cell_type": "code",
      "source": [
        "# Filter the data to retrieve all the rows where the 'total_votes' count is equal to or greater than 20.\n",
        "votes20_df = df.filter(df.total_votes >= 20)\n",
        "votes20_df.show()"
      ],
      "metadata": {
        "colab": {
          "base_uri": "https://localhost:8080/"
        },
        "id": "Xy_wWQDwFaWX",
        "outputId": "f79f921c-41c6-4894-f220-a4400a41658c"
      },
      "execution_count": 6,
      "outputs": [
        {
          "output_type": "stream",
          "name": "stdout",
          "text": [
            "+-----------+-----------+--------------+----------+--------------+--------------------+----------------+-----------+-------------+-----------+----+-----------------+--------------------+--------------------+-----------+\n",
            "|marketplace|customer_id|     review_id|product_id|product_parent|       product_title|product_category|star_rating|helpful_votes|total_votes|vine|verified_purchase|     review_headline|         review_body|review_date|\n",
            "+-----------+-----------+--------------+----------+--------------+--------------------+----------------+-----------+-------------+-----------+----+-----------------+--------------------+--------------------+-----------+\n",
            "|         US|   18888920|R36PQ9D8L2AAOH|B00JDQJVF2|     255898874|Amazon.com Gift C...|       Gift Card|          5|           30|         32|   N|                Y|          Five Stars|Love this adorabl...| 2015-08-26|\n",
            "|         US|    4765280|R23GHBE86II0SK|B007V6ETDK|     924812503|Amazon eGift Card...|       Gift Card|          5|           18|         21|   N|                Y|Los Angeles Alway...|      Great idea Ama| 2015-08-18|\n",
            "|         US|   39230280|R18KVPY0TO33BM|B00JDQJVF2|     255898874|Amazon.com Gift C...|       Gift Card|          5|          241|        248|   N|                Y|Very sweet and co...|I am very impress...| 2015-08-16|\n",
            "|         US|     167348|R2ZB78BDM8BRCF|B004LLIKVU|     473048287|Amazon.com eGift ...|       Gift Card|          1|           99|        113|   N|                Y|             Scammed|You should have a...| 2015-08-13|\n",
            "|         US|   16553928|R2JMJOWGM7V7NX|BT00CTP6MM|     775486538|Amazon.com Gift C...|       Gift Card|          4|           20|         20|   N|                N|          Four Stars|Thank you note wa...| 2015-07-24|\n",
            "|         US|   39357721|R10ORTN0I3G5B9|B00IX1I3G6|     926539283|Amazon.com Gift C...|       Gift Card|          1|           19|         26|   N|                Y|It is getting clo...|Gift cards are no...| 2015-07-18|\n",
            "|         US|   43437405|R1D1VPJBTP1WG8|B00IX1I3G6|     926539283|Amazon.com Gift C...|       Gift Card|          1|           38|         51|   N|                Y|I am still waitin...|I recently tried ...| 2015-07-13|\n",
            "|         US|   50118836|R3Q3ULUTULAQYH|B00IX1I3G6|     926539283|Amazon.com Gift C...|       Gift Card|          1|           22|         29|   N|                Y|      Not impressed.|Am not impressed....| 2015-07-11|\n",
            "|         US|   20020797|R1SHEELXA1IXQP|B00A48G0D4|     848703272|Amazon eGift Card...|       Gift Card|          5|           45|         57|   N|                Y|These gift cards ...|These are handy! ...| 2015-07-10|\n",
            "|         US|     212175|R1IQJ99JOPJOE4|B004LLIKVU|     473048287|Amazon.com eGift ...|       Gift Card|          5|           73|         94|   N|                N|                😅😂|Ok, I haven't bou...| 2015-07-08|\n",
            "|         US|     338223|R32PHGNOUNJVY2|B004LLIKVU|     473048287|Amazon.com eGift ...|       Gift Card|          1|          111|        150|   N|                Y|            One Star|the Quality is ve...| 2015-07-06|\n",
            "|         US|     256644|R32HQ18L7FOP3N|B005FGQHKQ|     379368939|Amazon.com Gift C...|       Gift Card|          1|           18|         23|   N|                N|              Read!!|Most of the 5-sta...| 2015-07-06|\n",
            "|         US|   50541491|R2IPGL0F4OCNO9|B00JFBLZ90|     255898874|Amazon.com Gift C...|       Gift Card|          1|           18|         24|   N|                N|I ordered a gift ...|I ordered a gift ...| 2015-06-24|\n",
            "|         US|    2547198| R4RNS35ZXYWSU|B00JDQKELW|     832087091|Amazon.com Gift C...|       Gift Card|          2|           52|         59|   N|                Y|   Dented Metal Case|Though the card w...| 2015-06-22|\n",
            "|         US|    2290967| R5S7HIQAWL5QS|B0091JL2CQ|     349029296|Amazon.com Gift C...|       Gift Card|          5|           48|         49|   N|                Y|This is seriously...|I purchased this ...| 2015-06-14|\n",
            "|         US|   50733118|R12LGU9RL181NG|B004LLIKVU|     473048287|Amazon.com eGift ...|       Gift Card|          1|         5987|       6323|   N|                Y|Amazon should do ...|I think I am just...| 2015-06-13|\n",
            "|         US|   21950425|R1ZMHE6AO0T6MO|B00CHQKIDE|     564167907|Amazon.com Gift C...|       Gift Card|          5|           67|         75|   N|                N|          Five Stars|     Awesome to have| 2015-06-11|\n",
            "|         US|    1356854| R66RKRKYK3VMO|B0066AZGD4|     136017760|Amazon eGift Card...|       Gift Card|          5|           74|         89|   N|                Y|\"When you really ...|Love that you can...| 2015-06-05|\n",
            "|         US|    3250748| R1SVG06BEMESM|B004LLIKVU|     473048287|Amazon.com eGift ...|       Gift Card|          5|           92|        126|   N|                Y|my first order of...|this is the third...| 2015-06-04|\n",
            "|         US|   52940323|R1Q5MWSSP3RMYJ|B00JDQJVF2|     255898874|Amazon.com Gift C...|       Gift Card|          1|           25|         29|   N|                Y|Risky Gift Card D...|What's not to lik...| 2015-06-03|\n",
            "+-----------+-----------+--------------+----------+--------------+--------------------+----------------+-----------+-------------+-----------+----+-----------------+--------------------+--------------------+-----------+\n",
            "only showing top 20 rows\n",
            "\n"
          ]
        }
      ]
    },
    {
      "cell_type": "code",
      "source": [
        "# Filter the new DataFrame to retrieve all the rows where the number of\n",
        "# 'helpful_votes' divided by 'total_votes' is equal to or greater than 50%.\n",
        "\n",
        "votes50_df = votes20_df.filter((votes20_df.helpful_votes/votes20_df.total_votes) >= 0.5)\n",
        "votes50_df.show()"
      ],
      "metadata": {
        "colab": {
          "base_uri": "https://localhost:8080/"
        },
        "id": "QkeU0t8-WYCn",
        "outputId": "9d993fcc-3377-44f3-891b-4b8874a48edc"
      },
      "execution_count": 7,
      "outputs": [
        {
          "output_type": "stream",
          "name": "stdout",
          "text": [
            "+-----------+-----------+--------------+----------+--------------+--------------------+----------------+-----------+-------------+-----------+----+-----------------+--------------------+--------------------+-----------+\n",
            "|marketplace|customer_id|     review_id|product_id|product_parent|       product_title|product_category|star_rating|helpful_votes|total_votes|vine|verified_purchase|     review_headline|         review_body|review_date|\n",
            "+-----------+-----------+--------------+----------+--------------+--------------------+----------------+-----------+-------------+-----------+----+-----------------+--------------------+--------------------+-----------+\n",
            "|         US|   18888920|R36PQ9D8L2AAOH|B00JDQJVF2|     255898874|Amazon.com Gift C...|       Gift Card|          5|           30|         32|   N|                Y|          Five Stars|Love this adorabl...| 2015-08-26|\n",
            "|         US|    4765280|R23GHBE86II0SK|B007V6ETDK|     924812503|Amazon eGift Card...|       Gift Card|          5|           18|         21|   N|                Y|Los Angeles Alway...|      Great idea Ama| 2015-08-18|\n",
            "|         US|   39230280|R18KVPY0TO33BM|B00JDQJVF2|     255898874|Amazon.com Gift C...|       Gift Card|          5|          241|        248|   N|                Y|Very sweet and co...|I am very impress...| 2015-08-16|\n",
            "|         US|     167348|R2ZB78BDM8BRCF|B004LLIKVU|     473048287|Amazon.com eGift ...|       Gift Card|          1|           99|        113|   N|                Y|             Scammed|You should have a...| 2015-08-13|\n",
            "|         US|   16553928|R2JMJOWGM7V7NX|BT00CTP6MM|     775486538|Amazon.com Gift C...|       Gift Card|          4|           20|         20|   N|                N|          Four Stars|Thank you note wa...| 2015-07-24|\n",
            "|         US|   39357721|R10ORTN0I3G5B9|B00IX1I3G6|     926539283|Amazon.com Gift C...|       Gift Card|          1|           19|         26|   N|                Y|It is getting clo...|Gift cards are no...| 2015-07-18|\n",
            "|         US|   43437405|R1D1VPJBTP1WG8|B00IX1I3G6|     926539283|Amazon.com Gift C...|       Gift Card|          1|           38|         51|   N|                Y|I am still waitin...|I recently tried ...| 2015-07-13|\n",
            "|         US|   50118836|R3Q3ULUTULAQYH|B00IX1I3G6|     926539283|Amazon.com Gift C...|       Gift Card|          1|           22|         29|   N|                Y|      Not impressed.|Am not impressed....| 2015-07-11|\n",
            "|         US|   20020797|R1SHEELXA1IXQP|B00A48G0D4|     848703272|Amazon eGift Card...|       Gift Card|          5|           45|         57|   N|                Y|These gift cards ...|These are handy! ...| 2015-07-10|\n",
            "|         US|     212175|R1IQJ99JOPJOE4|B004LLIKVU|     473048287|Amazon.com eGift ...|       Gift Card|          5|           73|         94|   N|                N|                😅😂|Ok, I haven't bou...| 2015-07-08|\n",
            "|         US|     338223|R32PHGNOUNJVY2|B004LLIKVU|     473048287|Amazon.com eGift ...|       Gift Card|          1|          111|        150|   N|                Y|            One Star|the Quality is ve...| 2015-07-06|\n",
            "|         US|     256644|R32HQ18L7FOP3N|B005FGQHKQ|     379368939|Amazon.com Gift C...|       Gift Card|          1|           18|         23|   N|                N|              Read!!|Most of the 5-sta...| 2015-07-06|\n",
            "|         US|   50541491|R2IPGL0F4OCNO9|B00JFBLZ90|     255898874|Amazon.com Gift C...|       Gift Card|          1|           18|         24|   N|                N|I ordered a gift ...|I ordered a gift ...| 2015-06-24|\n",
            "|         US|    2547198| R4RNS35ZXYWSU|B00JDQKELW|     832087091|Amazon.com Gift C...|       Gift Card|          2|           52|         59|   N|                Y|   Dented Metal Case|Though the card w...| 2015-06-22|\n",
            "|         US|    2290967| R5S7HIQAWL5QS|B0091JL2CQ|     349029296|Amazon.com Gift C...|       Gift Card|          5|           48|         49|   N|                Y|This is seriously...|I purchased this ...| 2015-06-14|\n",
            "|         US|   50733118|R12LGU9RL181NG|B004LLIKVU|     473048287|Amazon.com eGift ...|       Gift Card|          1|         5987|       6323|   N|                Y|Amazon should do ...|I think I am just...| 2015-06-13|\n",
            "|         US|   21950425|R1ZMHE6AO0T6MO|B00CHQKIDE|     564167907|Amazon.com Gift C...|       Gift Card|          5|           67|         75|   N|                N|          Five Stars|     Awesome to have| 2015-06-11|\n",
            "|         US|    1356854| R66RKRKYK3VMO|B0066AZGD4|     136017760|Amazon eGift Card...|       Gift Card|          5|           74|         89|   N|                Y|\"When you really ...|Love that you can...| 2015-06-05|\n",
            "|         US|    3250748| R1SVG06BEMESM|B004LLIKVU|     473048287|Amazon.com eGift ...|       Gift Card|          5|           92|        126|   N|                Y|my first order of...|this is the third...| 2015-06-04|\n",
            "|         US|   52940323|R1Q5MWSSP3RMYJ|B00JDQJVF2|     255898874|Amazon.com Gift C...|       Gift Card|          1|           25|         29|   N|                Y|Risky Gift Card D...|What's not to lik...| 2015-06-03|\n",
            "+-----------+-----------+--------------+----------+--------------+--------------------+----------------+-----------+-------------+-----------+----+-----------------+--------------------+--------------------+-----------+\n",
            "only showing top 20 rows\n",
            "\n"
          ]
        }
      ]
    },
    {
      "cell_type": "code",
      "source": [
        "# Filter 'votes50_df' to retrieve all the rows where a review was written as part of the Vine program (paid), vine == 'Y'.\n",
        "paid_df = votes50_df.filter(votes50_df.vine == 'Y')\n",
        "paid_df.show()"
      ],
      "metadata": {
        "colab": {
          "base_uri": "https://localhost:8080/"
        },
        "id": "ZOAASvvwXRR2",
        "outputId": "59232ac7-0271-480c-aa24-35223cfe024d"
      },
      "execution_count": 12,
      "outputs": [
        {
          "output_type": "stream",
          "name": "stdout",
          "text": [
            "+-----------+-----------+---------+----------+--------------+-------------+----------------+-----------+-------------+-----------+----+-----------------+---------------+-----------+-----------+\n",
            "|marketplace|customer_id|review_id|product_id|product_parent|product_title|product_category|star_rating|helpful_votes|total_votes|vine|verified_purchase|review_headline|review_body|review_date|\n",
            "+-----------+-----------+---------+----------+--------------+-------------+----------------+-----------+-------------+-----------+----+-----------------+---------------+-----------+-----------+\n",
            "+-----------+-----------+---------+----------+--------------+-------------+----------------+-----------+-------------+-----------+----+-----------------+---------------+-----------+-----------+\n",
            "\n"
          ]
        }
      ]
    },
    {
      "cell_type": "code",
      "source": [
        "# Retrieve all the rows where the review was not part of the Vine program (unpaid), vine == 'N'.\n",
        "unpaid_df = votes50_df.filter(votes50_df.vine == 'N')\n",
        "unpaid_df.show()"
      ],
      "metadata": {
        "colab": {
          "base_uri": "https://localhost:8080/"
        },
        "id": "fNqR6gzqZSx0",
        "outputId": "3aae0dbf-a341-4bfa-be29-ffc580d5b3fb"
      },
      "execution_count": 13,
      "outputs": [
        {
          "output_type": "stream",
          "name": "stdout",
          "text": [
            "+-----------+-----------+--------------+----------+--------------+--------------------+----------------+-----------+-------------+-----------+----+-----------------+--------------------+--------------------+-----------+\n",
            "|marketplace|customer_id|     review_id|product_id|product_parent|       product_title|product_category|star_rating|helpful_votes|total_votes|vine|verified_purchase|     review_headline|         review_body|review_date|\n",
            "+-----------+-----------+--------------+----------+--------------+--------------------+----------------+-----------+-------------+-----------+----+-----------------+--------------------+--------------------+-----------+\n",
            "|         US|   18888920|R36PQ9D8L2AAOH|B00JDQJVF2|     255898874|Amazon.com Gift C...|       Gift Card|          5|           30|         32|   N|                Y|          Five Stars|Love this adorabl...| 2015-08-26|\n",
            "|         US|    4765280|R23GHBE86II0SK|B007V6ETDK|     924812503|Amazon eGift Card...|       Gift Card|          5|           18|         21|   N|                Y|Los Angeles Alway...|      Great idea Ama| 2015-08-18|\n",
            "|         US|   39230280|R18KVPY0TO33BM|B00JDQJVF2|     255898874|Amazon.com Gift C...|       Gift Card|          5|          241|        248|   N|                Y|Very sweet and co...|I am very impress...| 2015-08-16|\n",
            "|         US|     167348|R2ZB78BDM8BRCF|B004LLIKVU|     473048287|Amazon.com eGift ...|       Gift Card|          1|           99|        113|   N|                Y|             Scammed|You should have a...| 2015-08-13|\n",
            "|         US|   16553928|R2JMJOWGM7V7NX|BT00CTP6MM|     775486538|Amazon.com Gift C...|       Gift Card|          4|           20|         20|   N|                N|          Four Stars|Thank you note wa...| 2015-07-24|\n",
            "|         US|   39357721|R10ORTN0I3G5B9|B00IX1I3G6|     926539283|Amazon.com Gift C...|       Gift Card|          1|           19|         26|   N|                Y|It is getting clo...|Gift cards are no...| 2015-07-18|\n",
            "|         US|   43437405|R1D1VPJBTP1WG8|B00IX1I3G6|     926539283|Amazon.com Gift C...|       Gift Card|          1|           38|         51|   N|                Y|I am still waitin...|I recently tried ...| 2015-07-13|\n",
            "|         US|   50118836|R3Q3ULUTULAQYH|B00IX1I3G6|     926539283|Amazon.com Gift C...|       Gift Card|          1|           22|         29|   N|                Y|      Not impressed.|Am not impressed....| 2015-07-11|\n",
            "|         US|   20020797|R1SHEELXA1IXQP|B00A48G0D4|     848703272|Amazon eGift Card...|       Gift Card|          5|           45|         57|   N|                Y|These gift cards ...|These are handy! ...| 2015-07-10|\n",
            "|         US|     212175|R1IQJ99JOPJOE4|B004LLIKVU|     473048287|Amazon.com eGift ...|       Gift Card|          5|           73|         94|   N|                N|                😅😂|Ok, I haven't bou...| 2015-07-08|\n",
            "|         US|     338223|R32PHGNOUNJVY2|B004LLIKVU|     473048287|Amazon.com eGift ...|       Gift Card|          1|          111|        150|   N|                Y|            One Star|the Quality is ve...| 2015-07-06|\n",
            "|         US|     256644|R32HQ18L7FOP3N|B005FGQHKQ|     379368939|Amazon.com Gift C...|       Gift Card|          1|           18|         23|   N|                N|              Read!!|Most of the 5-sta...| 2015-07-06|\n",
            "|         US|   50541491|R2IPGL0F4OCNO9|B00JFBLZ90|     255898874|Amazon.com Gift C...|       Gift Card|          1|           18|         24|   N|                N|I ordered a gift ...|I ordered a gift ...| 2015-06-24|\n",
            "|         US|    2547198| R4RNS35ZXYWSU|B00JDQKELW|     832087091|Amazon.com Gift C...|       Gift Card|          2|           52|         59|   N|                Y|   Dented Metal Case|Though the card w...| 2015-06-22|\n",
            "|         US|    2290967| R5S7HIQAWL5QS|B0091JL2CQ|     349029296|Amazon.com Gift C...|       Gift Card|          5|           48|         49|   N|                Y|This is seriously...|I purchased this ...| 2015-06-14|\n",
            "|         US|   50733118|R12LGU9RL181NG|B004LLIKVU|     473048287|Amazon.com eGift ...|       Gift Card|          1|         5987|       6323|   N|                Y|Amazon should do ...|I think I am just...| 2015-06-13|\n",
            "|         US|   21950425|R1ZMHE6AO0T6MO|B00CHQKIDE|     564167907|Amazon.com Gift C...|       Gift Card|          5|           67|         75|   N|                N|          Five Stars|     Awesome to have| 2015-06-11|\n",
            "|         US|    1356854| R66RKRKYK3VMO|B0066AZGD4|     136017760|Amazon eGift Card...|       Gift Card|          5|           74|         89|   N|                Y|\"When you really ...|Love that you can...| 2015-06-05|\n",
            "|         US|    3250748| R1SVG06BEMESM|B004LLIKVU|     473048287|Amazon.com eGift ...|       Gift Card|          5|           92|        126|   N|                Y|my first order of...|this is the third...| 2015-06-04|\n",
            "|         US|   52940323|R1Q5MWSSP3RMYJ|B00JDQJVF2|     255898874|Amazon.com Gift C...|       Gift Card|          1|           25|         29|   N|                Y|Risky Gift Card D...|What's not to lik...| 2015-06-03|\n",
            "+-----------+-----------+--------------+----------+--------------+--------------------+----------------+-----------+-------------+-----------+----+-----------------+--------------------+--------------------+-----------+\n",
            "only showing top 20 rows\n",
            "\n"
          ]
        }
      ]
    },
    {
      "cell_type": "code",
      "source": [
        "# Total Paid Vine Reviews\n",
        "paid_total = paid_df.count()\n",
        "paid_total"
      ],
      "metadata": {
        "colab": {
          "base_uri": "https://localhost:8080/"
        },
        "id": "37UOlrmOZlYb",
        "outputId": "ff8a5c97-acec-48ec-97ea-de3ac9ee96b7"
      },
      "execution_count": 15,
      "outputs": [
        {
          "output_type": "execute_result",
          "data": {
            "text/plain": [
              "0"
            ]
          },
          "metadata": {},
          "execution_count": 15
        }
      ]
    },
    {
      "cell_type": "code",
      "source": [
        "# Total Unpaid Reviews\n",
        "unpaid_total = unpaid_df.count()\n",
        "unpaid_total"
      ],
      "metadata": {
        "colab": {
          "base_uri": "https://localhost:8080/"
        },
        "id": "dTn1XJoWaHBM",
        "outputId": "a3fbcbc6-c781-4bcb-f931-0c06f128d62a"
      },
      "execution_count": 17,
      "outputs": [
        {
          "output_type": "execute_result",
          "data": {
            "text/plain": [
              "355"
            ]
          },
          "metadata": {},
          "execution_count": 17
        }
      ]
    },
    {
      "cell_type": "code",
      "source": [
        "# 5 Star Paid Reviews\n",
        "paid_five_star = paid_df.filter(paid_df.star_rating == 5).count()\n",
        "paid_five_star"
      ],
      "metadata": {
        "colab": {
          "base_uri": "https://localhost:8080/"
        },
        "id": "k9B0P3xga62v",
        "outputId": "b0e6ccbe-5733-487d-f5ee-7cd67dd85e8e"
      },
      "execution_count": 18,
      "outputs": [
        {
          "output_type": "execute_result",
          "data": {
            "text/plain": [
              "0"
            ]
          },
          "metadata": {},
          "execution_count": 18
        }
      ]
    },
    {
      "cell_type": "code",
      "source": [
        "# 5 Star Unpaid Reviews\n",
        "unpaid_five_star = unpaid_df.filter(unpaid_df.star_rating == 5).count()\n",
        "unpaid_five_star"
      ],
      "metadata": {
        "colab": {
          "base_uri": "https://localhost:8080/"
        },
        "id": "YXVw0mLHbat-",
        "outputId": "8a5999d2-4c9a-40af-ac29-2c108406918d"
      },
      "execution_count": 19,
      "outputs": [
        {
          "output_type": "execute_result",
          "data": {
            "text/plain": [
              "90"
            ]
          },
          "metadata": {},
          "execution_count": 19
        }
      ]
    },
    {
      "cell_type": "code",
      "source": [
        "# 5 Star Paid Percenatge\n",
        "paid_percentage = (paid_five_star/paid_total)*100\n",
        "paid_percentage\n",
        "\n",
        "# Since there are 0(ZERO) paid 5-star reviews, the percentage is 0%(ZERO%). CANNOT divide by zero to show this."
      ],
      "metadata": {
        "colab": {
          "base_uri": "https://localhost:8080/",
          "height": 240
        },
        "id": "kL2MXd4jbn2L",
        "outputId": "21a0f882-9a20-46de-ca18-46775cd64ae0"
      },
      "execution_count": 23,
      "outputs": [
        {
          "output_type": "error",
          "ename": "ZeroDivisionError",
          "evalue": "ignored",
          "traceback": [
            "\u001b[0;31m---------------------------------------------------------------------------\u001b[0m",
            "\u001b[0;31mZeroDivisionError\u001b[0m                         Traceback (most recent call last)",
            "\u001b[0;32m<ipython-input-23-961416f2d17d>\u001b[0m in \u001b[0;36m<module>\u001b[0;34m()\u001b[0m\n\u001b[1;32m      1\u001b[0m \u001b[0;31m# 5 Star Paid Percenatge\u001b[0m\u001b[0;34m\u001b[0m\u001b[0;34m\u001b[0m\u001b[0;34m\u001b[0m\u001b[0m\n\u001b[0;32m----> 2\u001b[0;31m \u001b[0mpaid_percentage\u001b[0m \u001b[0;34m=\u001b[0m \u001b[0;34m(\u001b[0m\u001b[0mpaid_five_star\u001b[0m\u001b[0;34m/\u001b[0m\u001b[0mpaid_total\u001b[0m\u001b[0;34m)\u001b[0m\u001b[0;34m*\u001b[0m\u001b[0;36m100\u001b[0m\u001b[0;34m\u001b[0m\u001b[0;34m\u001b[0m\u001b[0m\n\u001b[0m\u001b[1;32m      3\u001b[0m \u001b[0mpaid_percentage\u001b[0m\u001b[0;34m\u001b[0m\u001b[0;34m\u001b[0m\u001b[0m\n\u001b[1;32m      4\u001b[0m \u001b[0;34m\u001b[0m\u001b[0m\n\u001b[1;32m      5\u001b[0m \u001b[0;31m# Since there are 0(ZERO) paid 5-star reviews, the percentage is 0%(ZERO%). CANNOT divide by zero to show this.\u001b[0m\u001b[0;34m\u001b[0m\u001b[0;34m\u001b[0m\u001b[0;34m\u001b[0m\u001b[0m\n",
            "\u001b[0;31mZeroDivisionError\u001b[0m: division by zero"
          ]
        }
      ]
    },
    {
      "cell_type": "code",
      "source": [
        "# 5 Star Unpaid Percenatge\n",
        "unpaid_percentage = (unpaid_five_star/unpaid_total)*100\n",
        "unpaid_percentage"
      ],
      "metadata": {
        "colab": {
          "base_uri": "https://localhost:8080/"
        },
        "id": "68UnIXBmb6zl",
        "outputId": "ccd0f6ee-7c87-4e8d-cbe7-2257b5be08c0"
      },
      "execution_count": 24,
      "outputs": [
        {
          "output_type": "execute_result",
          "data": {
            "text/plain": [
              "25.352112676056336"
            ]
          },
          "metadata": {},
          "execution_count": 24
        }
      ]
    },
    {
      "cell_type": "code",
      "source": [
        ""
      ],
      "metadata": {
        "id": "62HQiai_cwc9"
      },
      "execution_count": null,
      "outputs": []
    }
  ]
}